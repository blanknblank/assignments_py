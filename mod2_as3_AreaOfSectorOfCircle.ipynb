{
 "cells": [
  {
   "cell_type": "code",
   "execution_count": 2,
   "metadata": {},
   "outputs": [
    {
     "name": "stdout",
     "output_type": "stream",
     "text": [
      "enter the radius of sector    :2\n",
      "enter angle of secor    :30\n",
      "AREA OF SEGMENT OF A CIRCLE IS    :   1.0471975511965976\n"
     ]
    }
   ],
   "source": [
    "from math import pi\n",
    "def A(r,a):\n",
    "    return pi*r*r*(a/360)\n",
    "print(\"AREA OF SEGMENT OF A CIRCLE IS    :  \",A(float(input(\"enter the radius of sector    :\")),float(input(\"enter angle of secor    :\"))))"
   ]
  },
  {
   "cell_type": "code",
   "execution_count": null,
   "metadata": {},
   "outputs": [],
   "source": []
  }
 ],
 "metadata": {
  "kernelspec": {
   "display_name": "Python 3",
   "language": "python",
   "name": "python3"
  },
  "language_info": {
   "codemirror_mode": {
    "name": "ipython",
    "version": 3
   },
   "file_extension": ".py",
   "mimetype": "text/x-python",
   "name": "python",
   "nbconvert_exporter": "python",
   "pygments_lexer": "ipython3",
   "version": "3.7.7"
  }
 },
 "nbformat": 4,
 "nbformat_minor": 4
}
