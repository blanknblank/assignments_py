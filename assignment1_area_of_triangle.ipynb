{
 "cells": [
  {
   "cell_type": "code",
   "execution_count": 2,
   "metadata": {},
   "outputs": [
    {
     "name": "stdout",
     "output_type": "stream",
     "text": [
      "enter Side 1   :5\n",
      "enter Side 2   :5\n",
      "enter Side 3   :6\n",
      "AREA OF A TRIANGLE IS  :139.1402170474087\n"
     ]
    }
   ],
   "source": [
    "a,b,c = float(input(\"enter Side 1   :\")),float(input(\"enter Side 2   :\")),float(input(\"enter Side 3   :\"))\n",
    "p = a+b+c\n",
    "print(\"AREA OF A TRIANGLE IS  :\" + str((p*(p-a)*(p-b)*(p-c))**0.5))"
   ]
  },
  {
   "cell_type": "code",
   "execution_count": null,
   "metadata": {},
   "outputs": [],
   "source": []
  }
 ],
 "metadata": {
  "kernelspec": {
   "display_name": "Python 3",
   "language": "python",
   "name": "python3"
  },
  "language_info": {
   "codemirror_mode": {
    "name": "ipython",
    "version": 3
   },
   "file_extension": ".py",
   "mimetype": "text/x-python",
   "name": "python",
   "nbconvert_exporter": "python",
   "pygments_lexer": "ipython3",
   "version": "3.7.7"
  }
 },
 "nbformat": 4,
 "nbformat_minor": 4
}
