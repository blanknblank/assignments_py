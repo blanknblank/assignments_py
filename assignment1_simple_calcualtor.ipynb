{
 "cells": [
  {
   "cell_type": "code",
   "execution_count": 28,
   "metadata": {
    "scrolled": true
   },
   "outputs": [
    {
     "name": "stdout",
     "output_type": "stream",
     "text": [
      "enter operand 1 :12\n",
      "enter operand 2 :6\n",
      "enter choice of operation \n",
      "['0 --> sum', '1 --> diff', '2 --> product', '3 --> division', '4 --> modulus', '5 --> exponent', '6 --> floor division']\n",
      "5\n",
      "2985984\n"
     ]
    }
   ],
   "source": [
    "x= int(input(\"enter operand 1 :\"))\n",
    "y= int(input(\"enter operand 2 :\"))\n",
    "op = {'sum':x+y,'diff':x-y,'product':x*y,'division':x/y,'modulus':x%y,'exponent':x**y,'floor division':x//y}\n",
    "a = list(op.keys())\n",
    "print(\"enter choice of operation \\n\" +str([str(i)+\" --> \" +a[i] for i in range(7)]))\n",
    "print(op[a[int(input())]])"
   ]
  }
 ],
 "metadata": {
  "kernelspec": {
   "display_name": "Python 3",
   "language": "python",
   "name": "python3"
  },
  "language_info": {
   "codemirror_mode": {
    "name": "ipython",
    "version": 3
   },
   "file_extension": ".py",
   "mimetype": "text/x-python",
   "name": "python",
   "nbconvert_exporter": "python",
   "pygments_lexer": "ipython3",
   "version": "3.7.7"
  }
 },
 "nbformat": 4,
 "nbformat_minor": 4
}
