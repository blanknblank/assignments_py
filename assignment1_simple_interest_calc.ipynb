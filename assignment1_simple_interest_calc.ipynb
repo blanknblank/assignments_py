{
 "cells": [
  {
   "cell_type": "code",
   "execution_count": 2,
   "metadata": {},
   "outputs": [
    {
     "name": "stdout",
     "output_type": "stream",
     "text": [
      "enter principle  :12\n",
      "enter time in years :12\n",
      "enter rate  :12\n",
      "SIMPLE INTEREST     : \n",
      "17.28\n"
     ]
    }
   ],
   "source": [
    "print(\"SIMPLE INTEREST     : \"+str(float(input(\"enter principle  :\"))*float(input(\"enter time in years :\"))*float(input(\"enter rate      :\"))/100))\n",
    "\n"
   ]
  },
  {
   "cell_type": "code",
   "execution_count": null,
   "metadata": {},
   "outputs": [],
   "source": []
  }
 ],
 "metadata": {
  "kernelspec": {
   "display_name": "Python 3",
   "language": "python",
   "name": "python3"
  },
  "language_info": {
   "codemirror_mode": {
    "name": "ipython",
    "version": 3
   },
   "file_extension": ".py",
   "mimetype": "text/x-python",
   "name": "python",
   "nbconvert_exporter": "python",
   "pygments_lexer": "ipython3",
   "version": "3.7.7"
  }
 },
 "nbformat": 4,
 "nbformat_minor": 4
}
