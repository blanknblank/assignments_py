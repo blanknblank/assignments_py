{
 "cells": [
  {
   "cell_type": "code",
   "execution_count": 1,
   "metadata": {},
   "outputs": [
    {
     "name": "stdout",
     "output_type": "stream",
     "text": [
      "num1    :1\n",
      "num2    :4\n",
      "5= 5\n"
     ]
    }
   ],
   "source": [
    "sum=int(input(\"num1    :\"))+int(input(\"num2    :\"))\n",
    "a=[ str(sum)+ ' = 5' , str(sum)+ ' < 5' , str(sum)+ ' > 5' ]\n",
    "print(a[(0,1,2)[(sum<5)+(sum>5)+(sum>5)]])"
   ]
  },
  {
   "cell_type": "code",
   "execution_count": null,
   "metadata": {},
   "outputs": [],
   "source": []
  }
 ],
 "metadata": {
  "kernelspec": {
   "display_name": "Python 3",
   "language": "python",
   "name": "python3"
  },
  "language_info": {
   "codemirror_mode": {
    "name": "ipython",
    "version": 3
   },
   "file_extension": ".py",
   "mimetype": "text/x-python",
   "name": "python",
   "nbconvert_exporter": "python",
   "pygments_lexer": "ipython3",
   "version": "3.7.7"
  }
 },
 "nbformat": 4,
 "nbformat_minor": 4
}
