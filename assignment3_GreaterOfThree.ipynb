{
 "cells": [
  {
   "cell_type": "code",
   "execution_count": 5,
   "metadata": {},
   "outputs": [
    {
     "name": "stdout",
     "output_type": "stream",
     "text": [
      "num 1 :2\n",
      "num 2 :3\n",
      "num 3 :1\n",
      "3  is greater \n"
     ]
    }
   ],
   "source": [
    "a,b,c = int(input('num 1 :')),int(input('num 2 :')),int(input('num 3 :'))\n",
    "print((a if a>b else b) if (a if a>b else b)>c else c, ' is greater ')"
   ]
  }
 ],
 "metadata": {
  "kernelspec": {
   "display_name": "Python 3",
   "language": "python",
   "name": "python3"
  },
  "language_info": {
   "codemirror_mode": {
    "name": "ipython",
    "version": 3
   },
   "file_extension": ".py",
   "mimetype": "text/x-python",
   "name": "python",
   "nbconvert_exporter": "python",
   "pygments_lexer": "ipython3",
   "version": "3.7.7"
  }
 },
 "nbformat": 4,
 "nbformat_minor": 4
}
