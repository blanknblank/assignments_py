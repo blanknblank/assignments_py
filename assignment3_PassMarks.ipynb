{
 "cells": [
  {
   "cell_type": "code",
   "execution_count": 3,
   "metadata": {},
   "outputs": [
    {
     "name": "stdout",
     "output_type": "stream",
     "text": [
      "ENTER THE MARKS  :35\n",
      "not greater  than passing marks\n"
     ]
    }
   ],
   "source": [
    "print(('greater','not greater')[int(input('ENTER THE MARKS  :'))<36],' than passing marks')"
   ]
  },
  {
   "cell_type": "code",
   "execution_count": null,
   "metadata": {},
   "outputs": [],
   "source": []
  }
 ],
 "metadata": {
  "kernelspec": {
   "display_name": "Python 3",
   "language": "python",
   "name": "python3"
  }
 },
 "nbformat": 4,
 "nbformat_minor": 4
}
