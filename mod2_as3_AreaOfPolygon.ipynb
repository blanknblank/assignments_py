{
 "cells": [
  {
   "cell_type": "code",
   "execution_count": 1,
   "metadata": {},
   "outputs": [
    {
     "name": "stdout",
     "output_type": "stream",
     "text": [
      "enter number of sides4\n",
      "enter length of side    2\n",
      "AREA OF REGULAR POLYGON IS    : 4.000000000000001\n"
     ]
    }
   ],
   "source": [
    "from math import pi,tan\n",
    "def A(n,s):\n",
    "    return(n*(s*s)/(4*tan(pi/n)))\n",
    "print(\"AREA OF REGULAR POLYGON IS    :\",A(int(input(\"enter number of sides\")),float(input(\"enter length of side    \"))))"
   ]
  }
 ],
 "metadata": {
  "kernelspec": {
   "display_name": "Python 3",
   "language": "python",
   "name": "python3"
  },
  "language_info": {
   "codemirror_mode": {
    "name": "ipython",
    "version": 3
   },
   "file_extension": ".py",
   "mimetype": "text/x-python",
   "name": "python",
   "nbconvert_exporter": "python",
   "pygments_lexer": "ipython3",
   "version": "3.7.7"
  }
 },
 "nbformat": 4,
 "nbformat_minor": 4
}
