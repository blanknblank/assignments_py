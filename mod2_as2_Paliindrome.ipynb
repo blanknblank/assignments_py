{
 "cells": [
  {
   "cell_type": "code",
   "execution_count": 16,
   "metadata": {},
   "outputs": [
    {
     "name": "stdout",
     "output_type": "stream",
     "text": [
      "enter a number    :12s\n",
      "<class 'ValueError'>  occured\n",
      " you entered input other than integer\n",
      "FInally Block :Bye\n"
     ]
    }
   ],
   "source": [
    "import sys\n",
    "try:\n",
    "    a = str(int(input(\"enter a number    :\"))) \n",
    "    if a==a[::-1]:\n",
    "        print(a,\"  is a palindrome\")\n",
    "    else:\n",
    "        print(a,\" not a palindrome\")\n",
    "except Exception as e:\n",
    "    print(e.__class__,\" occured\")\n",
    "    print(\" you entered input other than integer\")\n",
    "finally:\n",
    "    print(\"FInally Block :Bye\")"
   ]
  }
 ],
 "metadata": {
  "kernelspec": {
   "display_name": "Python 3",
   "language": "python",
   "name": "python3"
  },
  "language_info": {
   "codemirror_mode": {
    "name": "ipython",
    "version": 3
   },
   "file_extension": ".py",
   "mimetype": "text/x-python",
   "name": "python",
   "nbconvert_exporter": "python",
   "pygments_lexer": "ipython3",
   "version": "3.7.7"
  }
 },
 "nbformat": 4,
 "nbformat_minor": 4
}
