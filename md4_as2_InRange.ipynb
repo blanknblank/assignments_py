{
 "cells": [
  {
   "cell_type": "code",
   "execution_count": 1,
   "metadata": {},
   "outputs": [
    {
     "name": "stdout",
     "output_type": "stream",
     "text": [
      "enter number 1\n",
      "enter start of range 1\n",
      "enter ned of range 10\n",
      " in range\n"
     ]
    }
   ],
   "source": [
    "def r(n,a,s):\n",
    "    return ('yes in range' if range(a,s) else 'No Not in range ')\n",
    "print(r(int(input('enter number ')),int(input('enter start of range ')),int(input('enter ned of range '))))"
   ]
  },
  {
   "cell_type": "code",
   "execution_count": null,
   "metadata": {},
   "outputs": [],
   "source": []
  }
 ],
 "metadata": {
  "kernelspec": {
   "display_name": "Python 3",
   "language": "python",
   "name": "python3"
  },
  "language_info": {
   "codemirror_mode": {
    "name": "ipython",
    "version": 3
   },
   "file_extension": ".py",
   "mimetype": "text/x-python",
   "name": "python",
   "nbconvert_exporter": "python",
   "pygments_lexer": "ipython3",
   "version": "3.7.7"
  }
 },
 "nbformat": 4,
 "nbformat_minor": 4
}
