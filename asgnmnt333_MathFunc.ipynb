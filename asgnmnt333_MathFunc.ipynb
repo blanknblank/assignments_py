{
 "cells": [
  {
   "cell_type": "code",
   "execution_count": null,
   "metadata": {},
   "outputs": [],
   "source": [
    "from math import sin,cos,tan,degrees,sqrt,exp,log2,log10,floor,pi,ceil\n",
    "for i in ['sin(60)','cos(pi)','tan(90)','degrees(sin(0.8660254037844386))','sqrt(400)','exp(5)','log2(1024)','log10(1024)','floor(23.56)','ceil(23.56)']:\n",
    "    print(eval(i))"
   ]
  }
 ],
 "metadata": {
  "kernelspec": {
   "display_name": "Python 3",
   "language": "python",
   "name": "python3"
  },
  "language_info": {
   "codemirror_mode": {
    "name": "ipython",
    "version": 3
   },
   "file_extension": ".py",
   "mimetype": "text/x-python",
   "name": "python",
   "nbconvert_exporter": "python",
   "pygments_lexer": "ipython3",
   "version": "3.7.7"
  }
 },
 "nbformat": 4,
 "nbformat_minor": 4
}
