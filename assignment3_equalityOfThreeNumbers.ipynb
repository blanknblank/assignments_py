{
 "cells": [
  {
   "cell_type": "code",
   "execution_count": 7,
   "metadata": {},
   "outputs": [
    {
     "name": "stdout",
     "output_type": "stream",
     "text": [
      "num1    :12\n",
      "num2    :1\n",
      "num3    :1\n",
      "two are equal\n"
     ]
    }
   ],
   "source": [
    "a,b,c = int(input(\"num1    :\")),int(input(\"num2    :\")),int(input(\"num3    :\"))\n",
    "if(a==b==c):\n",
    "    print(\"all are equal\")\n",
    "elif(a==b or b==c or c==a):\n",
    "    print(\"two are equal\")\n",
    "else:\n",
    "    print(\"all are different\")"
   ]
  }
 ],
 "metadata": {
  "kernelspec": {
   "display_name": "Python 3",
   "language": "python",
   "name": "python3"
  },
  "language_info": {
   "codemirror_mode": {
    "name": "ipython",
    "version": 3
   },
   "file_extension": ".py",
   "mimetype": "text/x-python",
   "name": "python",
   "nbconvert_exporter": "python",
   "pygments_lexer": "ipython3",
   "version": "3.7.7"
  }
 },
 "nbformat": 4,
 "nbformat_minor": 4
}
