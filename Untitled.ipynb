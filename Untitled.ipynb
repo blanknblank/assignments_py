{
 "cells": [
  {
   "cell_type": "code",
   "execution_count": 1,
   "metadata": {},
   "outputs": [
    {
     "name": "stdout",
     "output_type": "stream",
     "text": [
      "{1, 3, 12, 4}\n"
     ]
    }
   ],
   "source": [
    "a={1,1,1,12,3,4,4}\n",
    "print(a)"
   ]
  },
  {
   "cell_type": "code",
   "execution_count": 3,
   "metadata": {},
   "outputs": [
    {
     "name": "stdout",
     "output_type": "stream",
     "text": [
      "enter the string    : asas\n",
      "count of  ('s', 4)\n",
      "count of  ('s', 4)\n",
      "count of  ('s', 4)\n",
      "count of  ('s', 4)\n"
     ]
    }
   ],
   "source": [
    "def count(a,s):\n",
    "    j=0\n",
    "    for a in s:\n",
    "        j+=1\n",
    "    return a,j\n",
    "    \n",
    "s,a = input(\"enter the string    : \"),[]\n",
    "for i in s:\n",
    "    print(\"count of \",count(i,s))\n",
    "    s.replace(i,'')\n",
    "\n",
    "\n"
   ]
  },
  {
   "cell_type": "code",
   "execution_count": null,
   "metadata": {},
   "outputs": [],
   "source": []
  }
 ],
 "metadata": {
  "kernelspec": {
   "display_name": "Python 3",
   "language": "python",
   "name": "python3"
  },
  "language_info": {
   "codemirror_mode": {
    "name": "ipython",
    "version": 3
   },
   "file_extension": ".py",
   "mimetype": "text/x-python",
   "name": "python",
   "nbconvert_exporter": "python",
   "pygments_lexer": "ipython3",
   "version": "3.7.7"
  }
 },
 "nbformat": 4,
 "nbformat_minor": 4
}
