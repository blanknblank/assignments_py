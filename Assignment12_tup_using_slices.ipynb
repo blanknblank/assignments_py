{
 "cells": [
  {
   "cell_type": "code",
   "execution_count": 4,
   "metadata": {},
   "outputs": [
    {
     "name": "stdout",
     "output_type": "stream",
     "text": [
      "(4, 5, 3, 7, 4, 9, 4, 7) \n",
      " (4, 5, 3) \n",
      " (2, 4)\n"
     ]
    }
   ],
   "source": [
    "tup=(2,4,5,3,7,4,9,4,7)\n",
    "print(tup[1:],'\\n',tup[1:4],'\\n',tup[:2])"
   ]
  }
 ],
 "metadata": {
  "kernelspec": {
   "display_name": "Python 3",
   "language": "python",
   "name": "python3"
  },
  "language_info": {
   "codemirror_mode": {
    "name": "ipython",
    "version": 3
   },
   "file_extension": ".py",
   "mimetype": "text/x-python",
   "name": "python",
   "nbconvert_exporter": "python",
   "pygments_lexer": "ipython3",
   "version": "3.7.6"
  }
 },
 "nbformat": 4,
 "nbformat_minor": 4
}
