{
 "cells": [
  {
   "cell_type": "code",
   "execution_count": 17,
   "metadata": {
    "scrolled": true
   },
   "outputs": [
    {
     "name": "stdout",
     "output_type": "stream",
     "text": [
      "enter number   :5\n",
      "0 1  1  2  3  "
     ]
    }
   ],
   "source": [
    "a,s,n=0,1,int(input(\"enter number   :\"))\n",
    "if n ==2 or n==1:\n",
    "    print(a if (n==1) else a,s)\n",
    "\n",
    "else:\n",
    "    print(a,s,end=\"  \")\n",
    "    for i in range(2,n):\n",
    "        a,s=s,a+s\n",
    "        print(s,end = \"  \")\n",
    "        \n",
    "        "
   ]
  }
 ],
 "metadata": {
  "kernelspec": {
   "display_name": "Python 3",
   "language": "python",
   "name": "python3"
  },
  "language_info": {
   "codemirror_mode": {
    "name": "ipython",
    "version": 3
   },
   "file_extension": ".py",
   "mimetype": "text/x-python",
   "name": "python",
   "nbconvert_exporter": "python",
   "pygments_lexer": "ipython3",
   "version": "3.7.7"
  }
 },
 "nbformat": 4,
 "nbformat_minor": 4
}
