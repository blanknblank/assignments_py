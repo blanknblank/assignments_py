{
 "cells": [
  {
   "cell_type": "code",
   "execution_count": 1,
   "metadata": {},
   "outputs": [
    {
     "name": "stdout",
     "output_type": "stream",
     "text": [
      "enter radius of the circle1\n",
      "CIRCUMFERENCE OF A CIRCLE    :6.28\n",
      "enter SIDE of the SQUARE2\n",
      "PERIMETER OF A SQUARE    :8.0\n"
     ]
    }
   ],
   "source": [
    "print(\"CIRCUMFERENCE OF A CIRCLE    :\"+ str(float(input(\"enter radius of the circle\"))*2*3.14))\n",
    "print(\"PERIMETER OF A SQUARE    :\"+ str(float(input(\"enter SIDE of the SQUARE\"))*4))"
   ]
  },
  {
   "cell_type": "code",
   "execution_count": null,
   "metadata": {},
   "outputs": [],
   "source": []
  }
 ],
 "metadata": {
  "kernelspec": {
   "display_name": "Python 3",
   "language": "python",
   "name": "python3"
  },
  "language_info": {
   "codemirror_mode": {
    "name": "ipython",
    "version": 3
   },
   "file_extension": ".py",
   "mimetype": "text/x-python",
   "name": "python",
   "nbconvert_exporter": "python",
   "pygments_lexer": "ipython3",
   "version": "3.7.7"
  }
 },
 "nbformat": 4,
 "nbformat_minor": 4
}
