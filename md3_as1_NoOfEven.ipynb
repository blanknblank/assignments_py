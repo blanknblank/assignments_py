{
 "cells": [
  {
   "cell_type": "code",
   "execution_count": 14,
   "metadata": {},
   "outputs": [
    {
     "name": "stdout",
     "output_type": "stream",
     "text": [
      "enter the sttream1 2 3\n",
      "EVEN    :  1 \n",
      "ODD     : 2\n"
     ]
    }
   ],
   "source": [
    "\n",
    "a,b=0,0\n",
    "for i in input(\"enter the stream\").split(\" \"):\n",
    "    if(int(i)%2==0):\n",
    "        a+=1\n",
    "    else:\n",
    "        b+=1\n",
    "print(\"EVEN    : \",a,\"\\nODD     :\",b)"
   ]
  }
 ],
 "metadata": {
  "kernelspec": {
   "display_name": "Python 3",
   "language": "python",
   "name": "python3"
  },
  "language_info": {
   "codemirror_mode": {
    "name": "ipython",
    "version": 3
   },
   "file_extension": ".py",
   "mimetype": "text/x-python",
   "name": "python",
   "nbconvert_exporter": "python",
   "pygments_lexer": "ipython3",
   "version": "3.7.7"
  }
 },
 "nbformat": 4,
 "nbformat_minor": 4
}
